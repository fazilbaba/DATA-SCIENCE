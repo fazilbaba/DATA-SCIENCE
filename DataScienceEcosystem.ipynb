{
 "cells": [
  {
   "cell_type": "markdown",
   "id": "517623a0-fc42-440a-96d7-4076a983e029",
   "metadata": {},
   "source": [
    "# Data Science Tools and Ecosystem\n"
   ]
  },
  {
   "cell_type": "markdown",
   "id": "b3d8caa0-0ec2-4c9c-9a23-9eb415b6de80",
   "metadata": {},
   "source": [
    "In this notebook, Data Science Tools and Ecosystem are summarized.\n"
   ]
  },
  {
   "cell_type": "markdown",
   "id": "f262ab7d-00f0-49f4-9bb5-bb3cf175bf4d",
   "metadata": {},
   "source": [
    "Some of the popular languages that Data Scientists use are:\n",
    "\n",
    "1. Python\n",
    "2. R\n",
    "3. SQL\n",
    "4. Julia\n"
   ]
  },
  {
   "cell_type": "markdown",
   "id": "01dea014-47d6-4147-9b1a-0c914cd4b7d2",
   "metadata": {},
   "source": [
    "Some of the commonly used libraries used by Data Scientists include:\n",
    "\n",
    "1. Pandas\n",
    "2. NumPy\n",
    "3. Matplotlib\n",
    "4. Scikit-learn\n"
   ]
  },
  {
   "cell_type": "markdown",
   "id": "ff7309e0-4117-48da-9b73-9cb28c84b773",
   "metadata": {},
   "source": [
    "| Data Science Tools       |\n",
    "|--------------------------|\n",
    "| Jupyter Notebook         |\n",
    "| RStudio                  |\n",
    "| Apache Zeppelin          |\n",
    "\n"
   ]
  },
  {
   "cell_type": "markdown",
   "id": "14723b30-3a31-4717-902c-f291647a8a5e",
   "metadata": {},
   "source": [
    "# Below are a few examples of evaluating arithmetic expressions in Python.\n",
    "Addition(+):Adds two operands.\n",
    "Subtration(-):Subtrats the right operand frothe left operand."
   ]
  },
  {
   "cell_type": "markdown",
   "id": "3cad3318-0201-450c-8971-e05ecd853a90",
   "metadata": {},
   "source": [
    "# This is a simple arithmetic expression to multiply then add integers\n",
    "(3*4)+5\n",
    "a=3\n",
    "b=4\n",
    "c=5\n",
    "print(a*b+c)"
   ]
  },
  {
   "cell_type": "markdown",
   "id": "c19e2e8d-c007-40a0-a1b2-24008c336d52",
   "metadata": {},
   "source": [
    "# This will convert 200 minutes to hours by dividing by 60\n",
    "200 / 60\n"
   ]
  },
  {
   "cell_type": "markdown",
   "id": "5273b6ef-1210-4cd4-89c5-19cca835d6f8",
   "metadata": {},
   "source": [
    "**Objectives:**\n",
    "- List popular languages for Data Science\n",
    "- List commonly used libraries for Data Science\n",
    "- Demonstrate arithmetic expression evaluation in Python\n",
    "- Create tables using Markdown\n",
    "- Share Jupyter Notebooks through GitHub\n"
   ]
  },
  {
   "cell_type": "markdown",
   "id": "83ca87e9-3a83-475f-9a24-97c1fe594d0c",
   "metadata": {},
   "source": [
    "## Author\n",
    "FAZIL AMIN BABA\n"
   ]
  }
 ],
 "metadata": {
  "kernelspec": {
   "display_name": "Python 3 (ipykernel)",
   "language": "python",
   "name": "python3"
  },
  "language_info": {
   "codemirror_mode": {
    "name": "ipython",
    "version": 3
   },
   "file_extension": ".py",
   "mimetype": "text/x-python",
   "name": "python",
   "nbconvert_exporter": "python",
   "pygments_lexer": "ipython3",
   "version": "3.12.8"
  }
 },
 "nbformat": 4,
 "nbformat_minor": 5
}
